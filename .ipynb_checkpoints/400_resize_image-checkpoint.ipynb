{
 "cells": [
  {
   "cell_type": "markdown",
   "metadata": {},
   "source": [
    "After done object detection, crop biggest object, remove the background (all been done through command line in terminal). I am going to resize each images to save some computing power later. \n",
    "https://zhuanlan.zhihu.com/p/32246003"
   ]
  },
  {
   "cell_type": "code",
   "execution_count": 1,
   "metadata": {},
   "outputs": [],
   "source": [
    "from glob import glob\n",
    "from PIL import Image\n",
    "import os\n",
    "import math\n",
    "import shutil"
   ]
  },
  {
   "cell_type": "code",
   "execution_count": 2,
   "metadata": {},
   "outputs": [],
   "source": [
    "# create a function to resize images\n",
    "\n",
    "def resize_images(source_dir, target_dir, threshold):\n",
    "    \n",
    "    # find all the files in source directory\n",
    "    filenames = glob('{}/*'.format(source_dir))\n",
    "    \n",
    "    # create a output directory\n",
    "    if not os.path.exists(target_dir):\n",
    "        os.makedirs(target_dir)\n",
    "        \n",
    "    # for each file in the source directory    \n",
    "    for filename in filenames:\n",
    "        \n",
    "        #get the file size\n",
    "        filesize = os.path.getsize(filename)\n",
    "        \n",
    "        # if the file size is larger than the threshold we set\n",
    "        if filesize >= threshold:\n",
    "            with Image.open(filename) as im:\n",
    "                width, height = im.size\n",
    "                #set the new height\n",
    "                new_height = 1024\n",
    "                #set the new width, make sure is propotion to the new height\n",
    "                new_width = int(new_height * width * 1.0 / height)\n",
    "                #resize the image\n",
    "                resized_im = im.resize((new_width, new_height))\n",
    "                #create the new file name\n",
    "                output_filename = filename.replace(source_dir, target_dir)\n",
    "                # save to the output directory\n",
    "                resized_im.save(output_filename)\n",
    "                \n",
    "                # if the newsize is still too big, resize it again\n",
    "                newsize = os.path.getsize(output_filename)\n",
    "                if newsize >= threshold:\n",
    "                    with Image.open(filename) as im:\n",
    "                        width, height = im.size\n",
    "                        new_height = 980\n",
    "                        new_width = int(new_height * width * 1.0 / height)\n",
    "                        resized_im = im.resize((new_width, new_height))\n",
    "                        output_filename = filename.replace(source_dir, target_dir)\n",
    "                        resized_im.save(output_filename)\n",
    "        \n",
    "        # if the original size is already smaller than the threshold, just save as is\n",
    "        else:\n",
    "            output_filepath = os.path.join(target_dir,os.path.basename(filename))\n",
    "            shutil.copyfile(filename, output_filepath)"
   ]
  },
  {
   "cell_type": "code",
   "execution_count": 3,
   "metadata": {},
   "outputs": [],
   "source": [
    "source_dir='./chanel-2018-2021-yolo-crop-rembg/'\n",
    "target_dir='./chanel-2018-2021-yolo-crop-rembg-resize/'\n",
    "threshold = 1*1024*1000\n",
    "resize_images(source_dir, target_dir, threshold)"
   ]
  }
 ],
 "metadata": {
  "kernelspec": {
   "display_name": "Python 3",
   "language": "python",
   "name": "python3"
  },
  "language_info": {
   "codemirror_mode": {
    "name": "ipython",
    "version": 3
   },
   "file_extension": ".py",
   "mimetype": "text/x-python",
   "name": "python",
   "nbconvert_exporter": "python",
   "pygments_lexer": "ipython3",
   "version": "3.8.5"
  }
 },
 "nbformat": 4,
 "nbformat_minor": 1
}
