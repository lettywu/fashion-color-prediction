{
 "cells": [
  {
   "cell_type": "markdown",
   "id": "front-museum",
   "metadata": {},
   "source": [
    "In this notebook, I am going to extract the domain colors from each image, put them into a dataframe for modeling later."
   ]
  },
  {
   "cell_type": "code",
   "execution_count": 1,
   "id": "bibliographic-hawaii",
   "metadata": {},
   "outputs": [],
   "source": [
    "import cv2\n",
    "import numpy as np\n",
    "from PIL import Image\n",
    "import pandas as pd\n",
    "import matplotlib.pyplot as plt\n",
    "import os\n",
    "from glob import glob\n",
    "import colorsys"
   ]
  },
  {
   "cell_type": "code",
   "execution_count": 2,
   "id": "ignored-painting",
   "metadata": {},
   "outputs": [],
   "source": [
    "# make a function to get the top 4 color for each pic into a dataframe \n",
    "\n",
    "# take in 2 parameters, folder path and number of colors \n",
    "def color_df(folder_path,num_colors):\n",
    "    \n",
    "    # create an empty dataframe\n",
    "    rgba_df=pd.DataFrame()\n",
    "    # get all the picture path inside of the folder\n",
    "    filenames = glob('{}/*'.format(folder_path))\n",
    "    \n",
    "    for filename in filenames:\n",
    "        # read each image\n",
    "        image = Image.open(filename)\n",
    "        # Returns a converted copy of this image, map to a palette\n",
    "        result = image.convert('P',palette=Image.ADAPTIVE,colors=num_colors)\n",
    "        # convert the image to RGBA\n",
    "        result = result.convert('RGBA')\n",
    "        # get colors\n",
    "        main_colors = result.getcolors()\n",
    "        # delete the backround color, when the transparence is less than 100\n",
    "        main_colors = [(count,(r,g,b,a)) for (count,(r,g,b,a)) in main_colors if a > 100]\n",
    "        \n",
    "        # take out count\n",
    "        color_list=[]\n",
    "        for i in range(0,len(main_colors)):\n",
    "            color_list.append(main_colors[i][1])\n",
    "         \n",
    "        # make a df with rgba only\n",
    "        df = pd.DataFrame(color_list,columns=['r','g','b','a'])\n",
    "        \n",
    "        # insert brand, year, season, num for each color\n",
    "        df.insert(0,'brand',os.path.basename(filename).split('_')[0])\n",
    "        df.insert(1,'year',os.path.basename(filename).split('_')[1])\n",
    "        df.insert(2,'season',os.path.basename(filename).split('_')[2])\n",
    "        df.insert(3,'num',os.path.basename(filename).split('_')[3])\n",
    "        df['num']=df['num'].str.extract('(\\d+)').astype(int)\n",
    "\n",
    "        # concat with originial df    \n",
    "        rgba_df=pd.concat([rgba_df,df])\n",
    "     \n",
    "        # from previous step, all the indexs are 1s, reset the index\n",
    "        rgba_df.reset_index(drop=True,inplace=True)\n",
    "        \n",
    "    return rgba_df"
   ]
  },
  {
   "cell_type": "code",
   "execution_count": 3,
   "id": "junior-round",
   "metadata": {},
   "outputs": [],
   "source": [
    "folder_path='./selected_brands_2021_yolo_crop_rembg_resize/'\n",
    "num_colors=5\n",
    "df = color_df(folder_path,num_colors)"
   ]
  },
  {
   "cell_type": "code",
   "execution_count": 4,
   "id": "greatest-senegal",
   "metadata": {
    "scrolled": false
   },
   "outputs": [
    {
     "data": {
      "text/html": [
       "<div>\n",
       "<style scoped>\n",
       "    .dataframe tbody tr th:only-of-type {\n",
       "        vertical-align: middle;\n",
       "    }\n",
       "\n",
       "    .dataframe tbody tr th {\n",
       "        vertical-align: top;\n",
       "    }\n",
       "\n",
       "    .dataframe thead th {\n",
       "        text-align: right;\n",
       "    }\n",
       "</style>\n",
       "<table border=\"1\" class=\"dataframe\">\n",
       "  <thead>\n",
       "    <tr style=\"text-align: right;\">\n",
       "      <th></th>\n",
       "      <th>brand</th>\n",
       "      <th>year</th>\n",
       "      <th>season</th>\n",
       "      <th>num</th>\n",
       "      <th>r</th>\n",
       "      <th>g</th>\n",
       "      <th>b</th>\n",
       "      <th>a</th>\n",
       "    </tr>\n",
       "  </thead>\n",
       "  <tbody>\n",
       "    <tr>\n",
       "      <th>5972</th>\n",
       "      <td>isabel-marant</td>\n",
       "      <td>2021</td>\n",
       "      <td>spring</td>\n",
       "      <td>18</td>\n",
       "      <td>234</td>\n",
       "      <td>142</td>\n",
       "      <td>179</td>\n",
       "      <td>253</td>\n",
       "    </tr>\n",
       "    <tr>\n",
       "      <th>5973</th>\n",
       "      <td>chanel</td>\n",
       "      <td>2021</td>\n",
       "      <td>spring</td>\n",
       "      <td>8</td>\n",
       "      <td>206</td>\n",
       "      <td>171</td>\n",
       "      <td>151</td>\n",
       "      <td>253</td>\n",
       "    </tr>\n",
       "    <tr>\n",
       "      <th>5974</th>\n",
       "      <td>chanel</td>\n",
       "      <td>2021</td>\n",
       "      <td>spring</td>\n",
       "      <td>8</td>\n",
       "      <td>156</td>\n",
       "      <td>154</td>\n",
       "      <td>153</td>\n",
       "      <td>252</td>\n",
       "    </tr>\n",
       "    <tr>\n",
       "      <th>5975</th>\n",
       "      <td>chanel</td>\n",
       "      <td>2021</td>\n",
       "      <td>spring</td>\n",
       "      <td>8</td>\n",
       "      <td>90</td>\n",
       "      <td>90</td>\n",
       "      <td>92</td>\n",
       "      <td>253</td>\n",
       "    </tr>\n",
       "    <tr>\n",
       "      <th>5976</th>\n",
       "      <td>chanel</td>\n",
       "      <td>2021</td>\n",
       "      <td>spring</td>\n",
       "      <td>8</td>\n",
       "      <td>31</td>\n",
       "      <td>30</td>\n",
       "      <td>32</td>\n",
       "      <td>253</td>\n",
       "    </tr>\n",
       "  </tbody>\n",
       "</table>\n",
       "</div>"
      ],
      "text/plain": [
       "              brand  year  season  num    r    g    b    a\n",
       "5972  isabel-marant  2021  spring   18  234  142  179  253\n",
       "5973         chanel  2021  spring    8  206  171  151  253\n",
       "5974         chanel  2021  spring    8  156  154  153  252\n",
       "5975         chanel  2021  spring    8   90   90   92  253\n",
       "5976         chanel  2021  spring    8   31   30   32  253"
      ]
     },
     "execution_count": 4,
     "metadata": {},
     "output_type": "execute_result"
    }
   ],
   "source": [
    "df.tail()"
   ]
  },
  {
   "cell_type": "code",
   "execution_count": 5,
   "id": "interesting-station",
   "metadata": {},
   "outputs": [
    {
     "name": "stdout",
     "output_type": "stream",
     "text": [
      "<class 'pandas.core.frame.DataFrame'>\n",
      "RangeIndex: 5977 entries, 0 to 5976\n",
      "Data columns (total 8 columns):\n",
      " #   Column  Non-Null Count  Dtype \n",
      "---  ------  --------------  ----- \n",
      " 0   brand   5977 non-null   object\n",
      " 1   year    5977 non-null   object\n",
      " 2   season  5977 non-null   object\n",
      " 3   num     5977 non-null   int64 \n",
      " 4   r       5977 non-null   int64 \n",
      " 5   g       5977 non-null   int64 \n",
      " 6   b       5977 non-null   int64 \n",
      " 7   a       5977 non-null   int64 \n",
      "dtypes: int64(5), object(3)\n",
      "memory usage: 373.7+ KB\n"
     ]
    }
   ],
   "source": [
    "df.info()"
   ]
  },
  {
   "cell_type": "code",
   "execution_count": 6,
   "id": "mental-debut",
   "metadata": {},
   "outputs": [],
   "source": [
    "#df.to_csv('colors_some_brands_rgba_2021.csv',index=False)"
   ]
  }
 ],
 "metadata": {
  "kernelspec": {
   "display_name": "Python 3",
   "language": "python",
   "name": "python3"
  },
  "language_info": {
   "codemirror_mode": {
    "name": "ipython",
    "version": 3
   },
   "file_extension": ".py",
   "mimetype": "text/x-python",
   "name": "python",
   "nbconvert_exporter": "python",
   "pygments_lexer": "ipython3",
   "version": "3.8.5"
  }
 },
 "nbformat": 4,
 "nbformat_minor": 5
}
