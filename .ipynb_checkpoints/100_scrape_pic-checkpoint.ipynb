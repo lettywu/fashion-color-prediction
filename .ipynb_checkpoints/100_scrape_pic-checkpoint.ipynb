{
 "cells": [
  {
   "cell_type": "markdown",
   "metadata": {},
   "source": [
    "In this notebook, I am going to scrape fashion show pictures from Vogue Runway.\n",
    " https://github.com/ishangupta3/vogue_fashiondataset_scraper/blob/master/scrape.py"
   ]
  },
  {
   "cell_type": "code",
   "execution_count": 2,
   "metadata": {},
   "outputs": [],
   "source": [
    "import requests\n",
    "import io\n",
    "import os\n",
    "import urllib\n",
    "from urllib.request import urlopen\n",
    "from bs4 import BeautifulSoup\n",
    "import traceback"
   ]
  },
  {
   "cell_type": "code",
   "execution_count": 3,
   "metadata": {},
   "outputs": [],
   "source": [
    "# set brands\n",
    "\n",
    "brands = ['chanel','alexander-mcqueen','alexander-wang','christian-dior',\n",
    "         'chloe','coach','gucci','hermes','hm','hugo','huishan-zhang',\n",
    "         'juicy-couture','kenzo','kenzo-la-memento','madewell','miu-miu',\n",
    "         'philosophy','prada','ralph-lauren','sandro','valentino',\n",
    "         'vera-wang','versace','versus-versace','adam-lippes','adam-selman',\n",
    "         'aquilano-rimondi','bevza','burberry-prorsum','calvin-klein',\n",
    "          'calvin-luo','cushnie-et-ochs','dsquared','moncler-2-1952',\n",
    "         'elder-statesman','eric-schlosberg','fendi','givenchy',\n",
    "          'haus-alkire','isabel-marant','jenny-packham','jonathan-cohen',\n",
    "         'koche','laura-siegel','loewe','louis-vuitton','marc-jacobs',\n",
    "          'martin-grant','max-mara','michael-kors-collection']"
   ]
  },
  {
   "cell_type": "code",
   "execution_count": 4,
   "metadata": {},
   "outputs": [
    {
     "name": "stdout",
     "output_type": "stream",
     "text": [
      "[]\n"
     ]
    }
   ],
   "source": [
    "# test if there is duplicate in brands list\n",
    "\n",
    "import collections\n",
    "print([brand for brand, count in collections.Counter(brands).items() if count>1])"
   ]
  },
  {
   "cell_type": "code",
   "execution_count": 5,
   "metadata": {},
   "outputs": [],
   "source": [
    "# set target directory \n",
    "\n",
    "target_dir = 'image'"
   ]
  },
  {
   "cell_type": "code",
   "execution_count": 6,
   "metadata": {},
   "outputs": [],
   "source": [
    "# create a new folder for output pics\n",
    "\n",
    "if not os.path.exists(target_dir):\n",
    "    os.makedirs(target_dir)"
   ]
  },
  {
   "cell_type": "code",
   "execution_count": 7,
   "metadata": {},
   "outputs": [],
   "source": [
    "# set year range and season\n",
    "\n",
    "years = [x for x in range(2021,2022,1)]\n",
    "seasons=['spring','fall']"
   ]
  },
  {
   "cell_type": "code",
   "execution_count": null,
   "metadata": {},
   "outputs": [],
   "source": [
    "# scrape pictures from vogue runway\n",
    "\n",
    "for brand in brands:\n",
    "    for year in years:\n",
    "        for season in seasons:\n",
    "            try:\n",
    "                url=f'https://www.vogue.com/fashion-shows/{season}-{year}-ready-to-wear/{brand}/slideshow/collection/print'\n",
    "                page = urlopen(url)\n",
    "                soup = BeautifulSoup(page,'html.parser')\n",
    "                name_box = soup.find_all(attrs={'class':'slide--image'})\n",
    "                count = 1\n",
    "                print(brand,year,season)\n",
    "                for x in name_box:\n",
    "                    img_url = x['src']\n",
    "                    img_name = os.path.basename(img_url)\n",
    "                    filename = f'{brand}_{year}_{season}_{count}.jpg'\n",
    "                    fullfilename = os.path.join(target_dir,filename)\n",
    "                    urllib.request.urlretrieve(img_url,fullfilename)\n",
    "                    count +=1\n",
    "            except Exception:\n",
    "                traceback.print_exc()"
   ]
  },
  {
   "cell_type": "markdown",
   "metadata": {},
   "source": [
    "After done scrape image data, I used YOLO v5 to detect the object in each pictures, and crop the biggest object which in this case, is always the model. Then I used rembg package to remove the background of each image."
   ]
  }
 ],
 "metadata": {
  "kernelspec": {
   "display_name": "Python 3",
   "language": "python",
   "name": "python3"
  },
  "language_info": {
   "codemirror_mode": {
    "name": "ipython",
    "version": 3
   },
   "file_extension": ".py",
   "mimetype": "text/x-python",
   "name": "python",
   "nbconvert_exporter": "python",
   "pygments_lexer": "ipython3",
   "version": "3.8.5"
  }
 },
 "nbformat": 4,
 "nbformat_minor": 4
}
